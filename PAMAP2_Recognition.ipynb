{
  "cells": [
    {
      "cell_type": "markdown",
      "id": "a9fbb732-05a4-41c4-94d8-f9ad8f0a9b61",
      "metadata": {
        "id": "a9fbb732-05a4-41c4-94d8-f9ad8f0a9b61"
      },
      "source": [
        "# Physical Activity Recognition through Analysis of Wearable Sensor Data\n",
        "\n",
        "The primary objective of this project is to create an accurate, robust, and efficient predictive model that is able to identify specific physical activities performed by a user using sensor data acquired from the PAMAP2 Physical Activity Monitoring dataset gathered from wearable devices.\n",
        "\n",
        "Given the recent growth of the use of these devices, such as Apple Watch, this project has the potential to aid in the enhancement of personalized healthcare and fitness routine management.\n",
        "\n",
        "Author: Michael Bai"
      ]
    },
    {
      "cell_type": "code",
      "execution_count": null,
      "id": "9174b269-ff94-402c-81ed-11dbe3bbd551",
      "metadata": {
        "id": "9174b269-ff94-402c-81ed-11dbe3bbd551"
      },
      "outputs": [],
      "source": [
        "import pandas as pd\n",
        "import numpy as np\n",
        "import seaborn as sns\n",
        "import matplotlib.pyplot as plt\n",
        "\n",
        "df = pd.read_csv('dataset.csv')"
      ]
    },
    {
      "cell_type": "code",
      "execution_count": null,
      "id": "69153bf7-b377-4adc-a742-a77781bce97b",
      "metadata": {
        "id": "69153bf7-b377-4adc-a742-a77781bce97b",
        "outputId": "0f3d3c32-3f45-4581-860b-1edc7d9ee0cb"
      },
      "outputs": [
        {
          "data": {
            "text/html": [
              "<div>\n",
              "<style scoped>\n",
              "    .dataframe tbody tr th:only-of-type {\n",
              "        vertical-align: middle;\n",
              "    }\n",
              "\n",
              "    .dataframe tbody tr th {\n",
              "        vertical-align: top;\n",
              "    }\n",
              "\n",
              "    .dataframe thead th {\n",
              "        text-align: right;\n",
              "    }\n",
              "</style>\n",
              "<table border=\"1\" class=\"dataframe\">\n",
              "  <thead>\n",
              "    <tr style=\"text-align: right;\">\n",
              "      <th></th>\n",
              "      <th>activityID</th>\n",
              "      <th>heart_rate</th>\n",
              "      <th>hand temperature (°C)</th>\n",
              "      <th>hand acceleration X ±16g</th>\n",
              "      <th>hand acceleration Y ±16g</th>\n",
              "      <th>hand acceleration Z ±16g</th>\n",
              "      <th>hand gyroscope X</th>\n",
              "      <th>hand gyroscope Y</th>\n",
              "      <th>hand gyroscope Z</th>\n",
              "      <th>hand magnetometer X</th>\n",
              "      <th>...</th>\n",
              "      <th>ankle acceleration X ±16g</th>\n",
              "      <th>ankle acceleration Y ±16g</th>\n",
              "      <th>ankle acceleration Z ±16g</th>\n",
              "      <th>ankle gyroscope X</th>\n",
              "      <th>ankle gyroscope Y</th>\n",
              "      <th>ankle gyroscope Z</th>\n",
              "      <th>ankle magnetometer X</th>\n",
              "      <th>ankle magnetometer Y</th>\n",
              "      <th>ankle magnetometer Z</th>\n",
              "      <th>PeopleId</th>\n",
              "    </tr>\n",
              "  </thead>\n",
              "  <tbody>\n",
              "    <tr>\n",
              "      <th>0</th>\n",
              "      <td>transient activities</td>\n",
              "      <td>104.0</td>\n",
              "      <td>30.0</td>\n",
              "      <td>2.37223</td>\n",
              "      <td>8.60074</td>\n",
              "      <td>3.51048</td>\n",
              "      <td>-0.092217</td>\n",
              "      <td>0.056812</td>\n",
              "      <td>-0.015845</td>\n",
              "      <td>14.6806</td>\n",
              "      <td>...</td>\n",
              "      <td>9.65918</td>\n",
              "      <td>-1.65569</td>\n",
              "      <td>-0.099797</td>\n",
              "      <td>0.008300</td>\n",
              "      <td>0.009250</td>\n",
              "      <td>-0.017580</td>\n",
              "      <td>-61.1888</td>\n",
              "      <td>-38.9599</td>\n",
              "      <td>-58.1438</td>\n",
              "      <td>1</td>\n",
              "    </tr>\n",
              "    <tr>\n",
              "      <th>1</th>\n",
              "      <td>transient activities</td>\n",
              "      <td>104.0</td>\n",
              "      <td>30.0</td>\n",
              "      <td>2.18837</td>\n",
              "      <td>8.56560</td>\n",
              "      <td>3.66179</td>\n",
              "      <td>-0.024413</td>\n",
              "      <td>0.047759</td>\n",
              "      <td>0.006474</td>\n",
              "      <td>14.8991</td>\n",
              "      <td>...</td>\n",
              "      <td>9.69370</td>\n",
              "      <td>-1.57902</td>\n",
              "      <td>-0.215687</td>\n",
              "      <td>-0.006577</td>\n",
              "      <td>-0.004638</td>\n",
              "      <td>0.000368</td>\n",
              "      <td>-59.8479</td>\n",
              "      <td>-38.8919</td>\n",
              "      <td>-58.5253</td>\n",
              "      <td>1</td>\n",
              "    </tr>\n",
              "    <tr>\n",
              "      <th>2</th>\n",
              "      <td>transient activities</td>\n",
              "      <td>104.0</td>\n",
              "      <td>30.0</td>\n",
              "      <td>2.37357</td>\n",
              "      <td>8.60107</td>\n",
              "      <td>3.54898</td>\n",
              "      <td>-0.057976</td>\n",
              "      <td>0.032574</td>\n",
              "      <td>-0.006988</td>\n",
              "      <td>14.2420</td>\n",
              "      <td>...</td>\n",
              "      <td>9.58944</td>\n",
              "      <td>-1.73276</td>\n",
              "      <td>0.092914</td>\n",
              "      <td>0.003014</td>\n",
              "      <td>0.000148</td>\n",
              "      <td>0.022495</td>\n",
              "      <td>-60.7361</td>\n",
              "      <td>-39.4138</td>\n",
              "      <td>-58.3999</td>\n",
              "      <td>1</td>\n",
              "    </tr>\n",
              "    <tr>\n",
              "      <th>3</th>\n",
              "      <td>transient activities</td>\n",
              "      <td>104.0</td>\n",
              "      <td>30.0</td>\n",
              "      <td>2.07473</td>\n",
              "      <td>8.52853</td>\n",
              "      <td>3.66021</td>\n",
              "      <td>-0.002352</td>\n",
              "      <td>0.032810</td>\n",
              "      <td>-0.003747</td>\n",
              "      <td>14.8908</td>\n",
              "      <td>...</td>\n",
              "      <td>9.58814</td>\n",
              "      <td>-1.77040</td>\n",
              "      <td>0.054545</td>\n",
              "      <td>0.003175</td>\n",
              "      <td>-0.020301</td>\n",
              "      <td>0.011275</td>\n",
              "      <td>-60.4091</td>\n",
              "      <td>-38.7635</td>\n",
              "      <td>-58.3956</td>\n",
              "      <td>1</td>\n",
              "    </tr>\n",
              "    <tr>\n",
              "      <th>4</th>\n",
              "      <td>transient activities</td>\n",
              "      <td>104.0</td>\n",
              "      <td>30.0</td>\n",
              "      <td>2.22936</td>\n",
              "      <td>8.83122</td>\n",
              "      <td>3.70000</td>\n",
              "      <td>0.012269</td>\n",
              "      <td>0.018305</td>\n",
              "      <td>-0.053325</td>\n",
              "      <td>15.5612</td>\n",
              "      <td>...</td>\n",
              "      <td>9.69771</td>\n",
              "      <td>-1.65625</td>\n",
              "      <td>-0.060809</td>\n",
              "      <td>0.012698</td>\n",
              "      <td>-0.014303</td>\n",
              "      <td>-0.002823</td>\n",
              "      <td>-61.5199</td>\n",
              "      <td>-39.3879</td>\n",
              "      <td>-58.2694</td>\n",
              "      <td>1</td>\n",
              "    </tr>\n",
              "  </tbody>\n",
              "</table>\n",
              "<p>5 rows × 33 columns</p>\n",
              "</div>"
            ],
            "text/plain": [
              "             activityID  heart_rate  hand temperature (°C)  \\\n",
              "0  transient activities       104.0                   30.0   \n",
              "1  transient activities       104.0                   30.0   \n",
              "2  transient activities       104.0                   30.0   \n",
              "3  transient activities       104.0                   30.0   \n",
              "4  transient activities       104.0                   30.0   \n",
              "\n",
              "   hand acceleration X ±16g  hand acceleration Y ±16g  \\\n",
              "0                   2.37223                   8.60074   \n",
              "1                   2.18837                   8.56560   \n",
              "2                   2.37357                   8.60107   \n",
              "3                   2.07473                   8.52853   \n",
              "4                   2.22936                   8.83122   \n",
              "\n",
              "   hand acceleration Z ±16g  hand gyroscope X  hand gyroscope Y  \\\n",
              "0                   3.51048         -0.092217          0.056812   \n",
              "1                   3.66179         -0.024413          0.047759   \n",
              "2                   3.54898         -0.057976          0.032574   \n",
              "3                   3.66021         -0.002352          0.032810   \n",
              "4                   3.70000          0.012269          0.018305   \n",
              "\n",
              "   hand gyroscope Z  hand magnetometer X  ...  ankle acceleration X ±16g  \\\n",
              "0         -0.015845              14.6806  ...                    9.65918   \n",
              "1          0.006474              14.8991  ...                    9.69370   \n",
              "2         -0.006988              14.2420  ...                    9.58944   \n",
              "3         -0.003747              14.8908  ...                    9.58814   \n",
              "4         -0.053325              15.5612  ...                    9.69771   \n",
              "\n",
              "   ankle acceleration Y ±16g  ankle acceleration Z ±16g  ankle gyroscope X  \\\n",
              "0                   -1.65569                  -0.099797           0.008300   \n",
              "1                   -1.57902                  -0.215687          -0.006577   \n",
              "2                   -1.73276                   0.092914           0.003014   \n",
              "3                   -1.77040                   0.054545           0.003175   \n",
              "4                   -1.65625                  -0.060809           0.012698   \n",
              "\n",
              "   ankle gyroscope Y  ankle gyroscope Z  ankle magnetometer X  \\\n",
              "0           0.009250          -0.017580              -61.1888   \n",
              "1          -0.004638           0.000368              -59.8479   \n",
              "2           0.000148           0.022495              -60.7361   \n",
              "3          -0.020301           0.011275              -60.4091   \n",
              "4          -0.014303          -0.002823              -61.5199   \n",
              "\n",
              "   ankle magnetometer Y  ankle magnetometer Z  PeopleId  \n",
              "0              -38.9599              -58.1438         1  \n",
              "1              -38.8919              -58.5253         1  \n",
              "2              -39.4138              -58.3999         1  \n",
              "3              -38.7635              -58.3956         1  \n",
              "4              -39.3879              -58.2694         1  \n",
              "\n",
              "[5 rows x 33 columns]"
            ]
          },
          "execution_count": 2,
          "metadata": {},
          "output_type": "execute_result"
        }
      ],
      "source": [
        "df.head()"
      ]
    },
    {
      "cell_type": "markdown",
      "id": "eb854485-1d24-4939-ac12-bcdebfc5c2c3",
      "metadata": {
        "id": "eb854485-1d24-4939-ac12-bcdebfc5c2c3"
      },
      "source": [
        "## Check for Missing Values"
      ]
    },
    {
      "cell_type": "code",
      "execution_count": null,
      "id": "8c51f8a4-856c-4e3d-bf67-9c42c86037b1",
      "metadata": {
        "id": "8c51f8a4-856c-4e3d-bf67-9c42c86037b1",
        "outputId": "d9696920-55b9-40f7-f0e0-76ecddb2ed85"
      },
      "outputs": [
        {
          "name": "stdout",
          "output_type": "stream",
          "text": [
            "The number of missing values per feature are as follows:\n",
            "activityID                    0\n",
            "heart_rate                   46\n",
            "hand temperature (°C)         0\n",
            "hand acceleration X ±16g      0\n",
            "hand acceleration Y ±16g      0\n",
            "hand acceleration Z ±16g      0\n",
            "hand gyroscope X              0\n",
            "hand gyroscope Y              0\n",
            "hand gyroscope Z              0\n",
            "hand magnetometer X           0\n",
            "hand magnetometer Y           0\n",
            "hand magnetometer Z           0\n",
            "chest temperature (°C)        0\n",
            "chest acceleration X ±16g     0\n",
            "chest acceleration Y ±16g     0\n",
            "chest acceleration Z ±16g     0\n",
            "chest gyroscope X             0\n",
            "chest gyroscope Y             0\n",
            "chest gyroscope Z             0\n",
            "chest magnetometer X          0\n",
            "chest magnetometer Y          0\n",
            "chest magnetometer Z          0\n",
            "ankle temperature (°C)        0\n",
            "ankle acceleration X ±16g     0\n",
            "ankle acceleration Y ±16g     0\n",
            "ankle acceleration Z ±16g     0\n",
            "ankle gyroscope X             0\n",
            "ankle gyroscope Y             0\n",
            "ankle gyroscope Z             0\n",
            "ankle magnetometer X          0\n",
            "ankle magnetometer Y          0\n",
            "ankle magnetometer Z          0\n",
            "PeopleId                      0\n",
            "dtype: int64\n",
            "\n",
            "The number of values with filler value N/A are as follows: \n",
            "activityID                   0\n",
            "heart_rate                   0\n",
            "hand temperature (°C)        0\n",
            "hand acceleration X ±16g     0\n",
            "hand acceleration Y ±16g     0\n",
            "hand acceleration Z ±16g     0\n",
            "hand gyroscope X             0\n",
            "hand gyroscope Y             0\n",
            "hand gyroscope Z             0\n",
            "hand magnetometer X          0\n",
            "hand magnetometer Y          0\n",
            "hand magnetometer Z          0\n",
            "chest temperature (°C)       0\n",
            "chest acceleration X ±16g    0\n",
            "chest acceleration Y ±16g    0\n",
            "chest acceleration Z ±16g    0\n",
            "chest gyroscope X            0\n",
            "chest gyroscope Y            0\n",
            "chest gyroscope Z            0\n",
            "chest magnetometer X         0\n",
            "chest magnetometer Y         0\n",
            "chest magnetometer Z         0\n",
            "ankle temperature (°C)       0\n",
            "ankle acceleration X ±16g    0\n",
            "ankle acceleration Y ±16g    0\n",
            "ankle acceleration Z ±16g    0\n",
            "ankle gyroscope X            0\n",
            "ankle gyroscope Y            0\n",
            "ankle gyroscope Z            0\n",
            "ankle magnetometer X         0\n",
            "ankle magnetometer Y         0\n",
            "ankle magnetometer Z         0\n",
            "PeopleId                     0\n",
            "dtype: int64\n",
            "\n",
            "The number of values with filler value unknown are as follows: \n",
            "activityID                   0\n",
            "heart_rate                   0\n",
            "hand temperature (°C)        0\n",
            "hand acceleration X ±16g     0\n",
            "hand acceleration Y ±16g     0\n",
            "hand acceleration Z ±16g     0\n",
            "hand gyroscope X             0\n",
            "hand gyroscope Y             0\n",
            "hand gyroscope Z             0\n",
            "hand magnetometer X          0\n",
            "hand magnetometer Y          0\n",
            "hand magnetometer Z          0\n",
            "chest temperature (°C)       0\n",
            "chest acceleration X ±16g    0\n",
            "chest acceleration Y ±16g    0\n",
            "chest acceleration Z ±16g    0\n",
            "chest gyroscope X            0\n",
            "chest gyroscope Y            0\n",
            "chest gyroscope Z            0\n",
            "chest magnetometer X         0\n",
            "chest magnetometer Y         0\n",
            "chest magnetometer Z         0\n",
            "ankle temperature (°C)       0\n",
            "ankle acceleration X ±16g    0\n",
            "ankle acceleration Y ±16g    0\n",
            "ankle acceleration Z ±16g    0\n",
            "ankle gyroscope X            0\n",
            "ankle gyroscope Y            0\n",
            "ankle gyroscope Z            0\n",
            "ankle magnetometer X         0\n",
            "ankle magnetometer Y         0\n",
            "ankle magnetometer Z         0\n",
            "PeopleId                     0\n",
            "dtype: int64\n",
            "\n",
            "The number of values with filler value ??? are as follows: \n",
            "activityID                   0\n",
            "heart_rate                   0\n",
            "hand temperature (°C)        0\n",
            "hand acceleration X ±16g     0\n",
            "hand acceleration Y ±16g     0\n",
            "hand acceleration Z ±16g     0\n",
            "hand gyroscope X             0\n",
            "hand gyroscope Y             0\n",
            "hand gyroscope Z             0\n",
            "hand magnetometer X          0\n",
            "hand magnetometer Y          0\n",
            "hand magnetometer Z          0\n",
            "chest temperature (°C)       0\n",
            "chest acceleration X ±16g    0\n",
            "chest acceleration Y ±16g    0\n",
            "chest acceleration Z ±16g    0\n",
            "chest gyroscope X            0\n",
            "chest gyroscope Y            0\n",
            "chest gyroscope Z            0\n",
            "chest magnetometer X         0\n",
            "chest magnetometer Y         0\n",
            "chest magnetometer Z         0\n",
            "ankle temperature (°C)       0\n",
            "ankle acceleration X ±16g    0\n",
            "ankle acceleration Y ±16g    0\n",
            "ankle acceleration Z ±16g    0\n",
            "ankle gyroscope X            0\n",
            "ankle gyroscope Y            0\n",
            "ankle gyroscope Z            0\n",
            "ankle magnetometer X         0\n",
            "ankle magnetometer Y         0\n",
            "ankle magnetometer Z         0\n",
            "PeopleId                     0\n",
            "dtype: int64\n",
            "\n",
            "The number of values with filler value NA are as follows: \n",
            "activityID                   0\n",
            "heart_rate                   0\n",
            "hand temperature (°C)        0\n",
            "hand acceleration X ±16g     0\n",
            "hand acceleration Y ±16g     0\n",
            "hand acceleration Z ±16g     0\n",
            "hand gyroscope X             0\n",
            "hand gyroscope Y             0\n",
            "hand gyroscope Z             0\n",
            "hand magnetometer X          0\n",
            "hand magnetometer Y          0\n",
            "hand magnetometer Z          0\n",
            "chest temperature (°C)       0\n",
            "chest acceleration X ±16g    0\n",
            "chest acceleration Y ±16g    0\n",
            "chest acceleration Z ±16g    0\n",
            "chest gyroscope X            0\n",
            "chest gyroscope Y            0\n",
            "chest gyroscope Z            0\n",
            "chest magnetometer X         0\n",
            "chest magnetometer Y         0\n",
            "chest magnetometer Z         0\n",
            "ankle temperature (°C)       0\n",
            "ankle acceleration X ±16g    0\n",
            "ankle acceleration Y ±16g    0\n",
            "ankle acceleration Z ±16g    0\n",
            "ankle gyroscope X            0\n",
            "ankle gyroscope Y            0\n",
            "ankle gyroscope Z            0\n",
            "ankle magnetometer X         0\n",
            "ankle magnetometer Y         0\n",
            "ankle magnetometer Z         0\n",
            "PeopleId                     0\n",
            "dtype: int64\n",
            "\n",
            "The number of values with filler value NaN are as follows: \n",
            "activityID                   0\n",
            "heart_rate                   0\n",
            "hand temperature (°C)        0\n",
            "hand acceleration X ±16g     0\n",
            "hand acceleration Y ±16g     0\n",
            "hand acceleration Z ±16g     0\n",
            "hand gyroscope X             0\n",
            "hand gyroscope Y             0\n",
            "hand gyroscope Z             0\n",
            "hand magnetometer X          0\n",
            "hand magnetometer Y          0\n",
            "hand magnetometer Z          0\n",
            "chest temperature (°C)       0\n",
            "chest acceleration X ±16g    0\n",
            "chest acceleration Y ±16g    0\n",
            "chest acceleration Z ±16g    0\n",
            "chest gyroscope X            0\n",
            "chest gyroscope Y            0\n",
            "chest gyroscope Z            0\n",
            "chest magnetometer X         0\n",
            "chest magnetometer Y         0\n",
            "chest magnetometer Z         0\n",
            "ankle temperature (°C)       0\n",
            "ankle acceleration X ±16g    0\n",
            "ankle acceleration Y ±16g    0\n",
            "ankle acceleration Z ±16g    0\n",
            "ankle gyroscope X            0\n",
            "ankle gyroscope Y            0\n",
            "ankle gyroscope Z            0\n",
            "ankle magnetometer X         0\n",
            "ankle magnetometer Y         0\n",
            "ankle magnetometer Z         0\n",
            "PeopleId                     0\n",
            "dtype: int64\n",
            "\n",
            "The number of values with filler value 0 are as follows: \n",
            "activityID                   0\n",
            "heart_rate                   0\n",
            "hand temperature (°C)        0\n",
            "hand acceleration X ±16g     0\n",
            "hand acceleration Y ±16g     0\n",
            "hand acceleration Z ±16g     0\n",
            "hand gyroscope X             0\n",
            "hand gyroscope Y             0\n",
            "hand gyroscope Z             0\n",
            "hand magnetometer X          0\n",
            "hand magnetometer Y          0\n",
            "hand magnetometer Z          0\n",
            "chest temperature (°C)       0\n",
            "chest acceleration X ±16g    0\n",
            "chest acceleration Y ±16g    0\n",
            "chest acceleration Z ±16g    0\n",
            "chest gyroscope X            0\n",
            "chest gyroscope Y            0\n",
            "chest gyroscope Z            0\n",
            "chest magnetometer X         0\n",
            "chest magnetometer Y         0\n",
            "chest magnetometer Z         0\n",
            "ankle temperature (°C)       0\n",
            "ankle acceleration X ±16g    0\n",
            "ankle acceleration Y ±16g    0\n",
            "ankle acceleration Z ±16g    0\n",
            "ankle gyroscope X            0\n",
            "ankle gyroscope Y            0\n",
            "ankle gyroscope Z            0\n",
            "ankle magnetometer X         0\n",
            "ankle magnetometer Y         0\n",
            "ankle magnetometer Z         0\n",
            "PeopleId                     0\n",
            "dtype: int64\n",
            "\n"
          ]
        }
      ],
      "source": [
        "# check for missing values\n",
        "print('The number of missing values per feature are as follows:')\n",
        "print(df.isnull().sum())\n",
        "print()\n",
        "\n",
        "# check for some common filler values\n",
        "filler_values = ['N/A', 'unknown', '???', 'NA', 'NaN', 0]\n",
        "for filler in filler_values:\n",
        "    print(f'The number of values with filler value {filler} are as follows: ')\n",
        "    print(df.eq(filler).sum())\n",
        "    print()"
      ]
    },
    {
      "cell_type": "markdown",
      "source": [
        "Missing data analysis was performed on the dataset yielding 46 values missing for “heart_rate” out of 2,864,056 records, indicating that a vast majority of the data is present. The readme.md file, provided by the dataset upon download, indicates that the missing data is due to minor malfunctions in the heart rate sensor caused by wireless disconnections.\n",
        "\n",
        "However, upon analysis of the missing records, all 46 are marked under ‘transient activities’, indicating that the data is missing not at random. Despite the observation, this may not actually be influential since only 46 records out of over 800,000 records for ‘transient activities’ are missing. Considering the fact that ‘transient activities’ are over-represented in our dataset, these missing values are less than surprising.\n",
        "\n",
        "There are no other missing values, nor common missing-number placeholders such as ‘NaN’, ‘???’, 0, ‘unknown’, etc… for any other feature.\n"
      ],
      "metadata": {
        "id": "7DBRWuCLu8ap"
      },
      "id": "7DBRWuCLu8ap"
    },
    {
      "cell_type": "markdown",
      "id": "74e3259c-dab9-4eea-b400-52e87f61bc1b",
      "metadata": {
        "id": "74e3259c-dab9-4eea-b400-52e87f61bc1b"
      },
      "source": [
        "## Exploratory Data Analysis"
      ]
    },
    {
      "cell_type": "code",
      "execution_count": null,
      "id": "a9841dc6-bc7f-4392-880c-c58251ce59fa",
      "metadata": {
        "id": "a9841dc6-bc7f-4392-880c-c58251ce59fa",
        "outputId": "1c82c288-d6ed-404b-a92c-489dbcde2b21"
      },
      "outputs": [
        {
          "data": {
            "text/html": [
              "<div>\n",
              "<style scoped>\n",
              "    .dataframe tbody tr th:only-of-type {\n",
              "        vertical-align: middle;\n",
              "    }\n",
              "\n",
              "    .dataframe tbody tr th {\n",
              "        vertical-align: top;\n",
              "    }\n",
              "\n",
              "    .dataframe thead th {\n",
              "        text-align: right;\n",
              "    }\n",
              "</style>\n",
              "<table border=\"1\" class=\"dataframe\">\n",
              "  <thead>\n",
              "    <tr style=\"text-align: right;\">\n",
              "      <th></th>\n",
              "      <th>heart_rate</th>\n",
              "      <th>hand temperature (°C)</th>\n",
              "      <th>hand acceleration X ±16g</th>\n",
              "      <th>hand acceleration Y ±16g</th>\n",
              "      <th>hand acceleration Z ±16g</th>\n",
              "      <th>hand gyroscope X</th>\n",
              "      <th>hand gyroscope Y</th>\n",
              "      <th>hand gyroscope Z</th>\n",
              "      <th>hand magnetometer X</th>\n",
              "      <th>hand magnetometer Y</th>\n",
              "      <th>...</th>\n",
              "      <th>ankle acceleration X ±16g</th>\n",
              "      <th>ankle acceleration Y ±16g</th>\n",
              "      <th>ankle acceleration Z ±16g</th>\n",
              "      <th>ankle gyroscope X</th>\n",
              "      <th>ankle gyroscope Y</th>\n",
              "      <th>ankle gyroscope Z</th>\n",
              "      <th>ankle magnetometer X</th>\n",
              "      <th>ankle magnetometer Y</th>\n",
              "      <th>ankle magnetometer Z</th>\n",
              "      <th>PeopleId</th>\n",
              "    </tr>\n",
              "  </thead>\n",
              "  <tbody>\n",
              "    <tr>\n",
              "      <th>count</th>\n",
              "      <td>2.864010e+06</td>\n",
              "      <td>2.864056e+06</td>\n",
              "      <td>2.864056e+06</td>\n",
              "      <td>2.864056e+06</td>\n",
              "      <td>2.864056e+06</td>\n",
              "      <td>2.864056e+06</td>\n",
              "      <td>2.864056e+06</td>\n",
              "      <td>2.864056e+06</td>\n",
              "      <td>2.864056e+06</td>\n",
              "      <td>2.864056e+06</td>\n",
              "      <td>...</td>\n",
              "      <td>2.864056e+06</td>\n",
              "      <td>2.864056e+06</td>\n",
              "      <td>2.864056e+06</td>\n",
              "      <td>2.864056e+06</td>\n",
              "      <td>2.864056e+06</td>\n",
              "      <td>2.864056e+06</td>\n",
              "      <td>2.864056e+06</td>\n",
              "      <td>2.864056e+06</td>\n",
              "      <td>2.864056e+06</td>\n",
              "      <td>2.864056e+06</td>\n",
              "    </tr>\n",
              "    <tr>\n",
              "      <th>mean</th>\n",
              "      <td>1.097703e+02</td>\n",
              "      <td>3.267050e+01</td>\n",
              "      <td>-4.978788e+00</td>\n",
              "      <td>3.575225e+00</td>\n",
              "      <td>3.174904e+00</td>\n",
              "      <td>-3.881062e-03</td>\n",
              "      <td>3.213164e-02</td>\n",
              "      <td>-6.985945e-03</td>\n",
              "      <td>2.125344e+01</td>\n",
              "      <td>-1.432121e+01</td>\n",
              "      <td>...</td>\n",
              "      <td>9.547292e+00</td>\n",
              "      <td>-1.251156e-01</td>\n",
              "      <td>-2.459224e+00</td>\n",
              "      <td>8.153172e-03</td>\n",
              "      <td>-3.430653e-02</td>\n",
              "      <td>6.899129e-03</td>\n",
              "      <td>-3.272317e+01</td>\n",
              "      <td>1.635810e+00</td>\n",
              "      <td>1.691927e+01</td>\n",
              "      <td>4.487160e+00</td>\n",
              "    </tr>\n",
              "    <tr>\n",
              "      <th>std</th>\n",
              "      <td>2.583130e+01</td>\n",
              "      <td>1.800771e+00</td>\n",
              "      <td>5.989589e+00</td>\n",
              "      <td>6.260608e+00</td>\n",
              "      <td>3.828842e+00</td>\n",
              "      <td>1.298024e+00</td>\n",
              "      <td>8.842820e-01</td>\n",
              "      <td>1.453340e+00</td>\n",
              "      <td>2.402693e+01</td>\n",
              "      <td>2.409430e+01</td>\n",
              "      <td>...</td>\n",
              "      <td>5.674253e+00</td>\n",
              "      <td>6.816935e+00</td>\n",
              "      <td>3.523211e+00</td>\n",
              "      <td>1.070971e+00</td>\n",
              "      <td>5.953280e-01</td>\n",
              "      <td>1.842663e+00</td>\n",
              "      <td>1.888977e+01</td>\n",
              "      <td>2.159774e+01</td>\n",
              "      <td>2.031745e+01</td>\n",
              "      <td>2.357792e+00</td>\n",
              "    </tr>\n",
              "    <tr>\n",
              "      <th>min</th>\n",
              "      <td>5.700000e+01</td>\n",
              "      <td>2.743750e+01</td>\n",
              "      <td>-1.453670e+02</td>\n",
              "      <td>-1.043010e+02</td>\n",
              "      <td>-1.014520e+02</td>\n",
              "      <td>-2.780440e+01</td>\n",
              "      <td>-2.221270e+01</td>\n",
              "      <td>-1.669970e+01</td>\n",
              "      <td>-1.039410e+02</td>\n",
              "      <td>-2.000430e+02</td>\n",
              "      <td>...</td>\n",
              "      <td>-1.550680e+02</td>\n",
              "      <td>-1.574430e+02</td>\n",
              "      <td>-1.589260e+02</td>\n",
              "      <td>-2.399500e+01</td>\n",
              "      <td>-1.812690e+01</td>\n",
              "      <td>-1.401960e+01</td>\n",
              "      <td>-1.728650e+02</td>\n",
              "      <td>-1.379080e+02</td>\n",
              "      <td>-1.092890e+02</td>\n",
              "      <td>1.000000e+00</td>\n",
              "    </tr>\n",
              "    <tr>\n",
              "      <th>25%</th>\n",
              "      <td>9.000000e+01</td>\n",
              "      <td>3.143750e+01</td>\n",
              "      <td>-9.038570e+00</td>\n",
              "      <td>1.294029e+00</td>\n",
              "      <td>9.735957e-01</td>\n",
              "      <td>-3.477418e-01</td>\n",
              "      <td>-1.970635e-01</td>\n",
              "      <td>-3.028935e-01</td>\n",
              "      <td>5.345607e+00</td>\n",
              "      <td>-2.951722e+01</td>\n",
              "      <td>...</td>\n",
              "      <td>9.030297e+00</td>\n",
              "      <td>-1.756760e+00</td>\n",
              "      <td>-3.643863e+00</td>\n",
              "      <td>-1.528980e-01</td>\n",
              "      <td>-8.216113e-02</td>\n",
              "      <td>-3.097942e-01</td>\n",
              "      <td>-4.290010e+01</td>\n",
              "      <td>-1.140080e+01</td>\n",
              "      <td>3.293130e+00</td>\n",
              "      <td>2.000000e+00</td>\n",
              "    </tr>\n",
              "    <tr>\n",
              "      <th>50%</th>\n",
              "      <td>1.080000e+02</td>\n",
              "      <td>3.312500e+01</td>\n",
              "      <td>-5.818260e+00</td>\n",
              "      <td>3.568640e+00</td>\n",
              "      <td>2.961145e+00</td>\n",
              "      <td>-6.158165e-03</td>\n",
              "      <td>6.137100e-03</td>\n",
              "      <td>-5.385480e-03</td>\n",
              "      <td>2.428385e+01</td>\n",
              "      <td>-1.645440e+01</td>\n",
              "      <td>...</td>\n",
              "      <td>9.573050e+00</td>\n",
              "      <td>-2.717770e-01</td>\n",
              "      <td>-2.357330e+00</td>\n",
              "      <td>4.215460e-03</td>\n",
              "      <td>-4.229060e-03</td>\n",
              "      <td>-2.273390e-03</td>\n",
              "      <td>-3.389515e+01</td>\n",
              "      <td>1.419830e+00</td>\n",
              "      <td>1.816660e+01</td>\n",
              "      <td>5.000000e+00</td>\n",
              "    </tr>\n",
              "    <tr>\n",
              "      <th>75%</th>\n",
              "      <td>1.250000e+02</td>\n",
              "      <td>3.400000e+01</td>\n",
              "      <td>-8.020333e-01</td>\n",
              "      <td>6.588192e+00</td>\n",
              "      <td>5.996195e+00</td>\n",
              "      <td>3.030542e-01</td>\n",
              "      <td>2.366580e-01</td>\n",
              "      <td>2.924292e-01</td>\n",
              "      <td>3.925000e+01</td>\n",
              "      <td>1.765928e+00</td>\n",
              "      <td>...</td>\n",
              "      <td>1.000520e+01</td>\n",
              "      <td>1.253742e+00</td>\n",
              "      <td>-1.062060e+00</td>\n",
              "      <td>9.399325e-02</td>\n",
              "      <td>8.283495e-02</td>\n",
              "      <td>6.281400e-02</td>\n",
              "      <td>-1.905550e+01</td>\n",
              "      <td>1.734970e+01</td>\n",
              "      <td>3.091070e+01</td>\n",
              "      <td>7.000000e+00</td>\n",
              "    </tr>\n",
              "    <tr>\n",
              "      <th>max</th>\n",
              "      <td>2.020000e+02</td>\n",
              "      <td>3.550000e+01</td>\n",
              "      <td>6.285960e+01</td>\n",
              "      <td>1.556990e+02</td>\n",
              "      <td>1.569490e+02</td>\n",
              "      <td>2.641580e+01</td>\n",
              "      <td>1.698350e+01</td>\n",
              "      <td>1.433840e+01</td>\n",
              "      <td>1.725900e+02</td>\n",
              "      <td>1.211760e+02</td>\n",
              "      <td>...</td>\n",
              "      <td>1.572320e+02</td>\n",
              "      <td>1.572930e+02</td>\n",
              "      <td>1.588720e+02</td>\n",
              "      <td>1.742040e+01</td>\n",
              "      <td>1.358820e+01</td>\n",
              "      <td>1.652880e+01</td>\n",
              "      <td>9.752550e+01</td>\n",
              "      <td>1.233060e+02</td>\n",
              "      <td>1.469000e+02</td>\n",
              "      <td>8.000000e+00</td>\n",
              "    </tr>\n",
              "  </tbody>\n",
              "</table>\n",
              "<p>8 rows × 32 columns</p>\n",
              "</div>"
            ],
            "text/plain": [
              "         heart_rate  hand temperature (°C)  hand acceleration X ±16g  \\\n",
              "count  2.864010e+06           2.864056e+06              2.864056e+06   \n",
              "mean   1.097703e+02           3.267050e+01             -4.978788e+00   \n",
              "std    2.583130e+01           1.800771e+00              5.989589e+00   \n",
              "min    5.700000e+01           2.743750e+01             -1.453670e+02   \n",
              "25%    9.000000e+01           3.143750e+01             -9.038570e+00   \n",
              "50%    1.080000e+02           3.312500e+01             -5.818260e+00   \n",
              "75%    1.250000e+02           3.400000e+01             -8.020333e-01   \n",
              "max    2.020000e+02           3.550000e+01              6.285960e+01   \n",
              "\n",
              "       hand acceleration Y ±16g  hand acceleration Z ±16g  hand gyroscope X  \\\n",
              "count              2.864056e+06              2.864056e+06      2.864056e+06   \n",
              "mean               3.575225e+00              3.174904e+00     -3.881062e-03   \n",
              "std                6.260608e+00              3.828842e+00      1.298024e+00   \n",
              "min               -1.043010e+02             -1.014520e+02     -2.780440e+01   \n",
              "25%                1.294029e+00              9.735957e-01     -3.477418e-01   \n",
              "50%                3.568640e+00              2.961145e+00     -6.158165e-03   \n",
              "75%                6.588192e+00              5.996195e+00      3.030542e-01   \n",
              "max                1.556990e+02              1.569490e+02      2.641580e+01   \n",
              "\n",
              "       hand gyroscope Y  hand gyroscope Z  hand magnetometer X  \\\n",
              "count      2.864056e+06      2.864056e+06         2.864056e+06   \n",
              "mean       3.213164e-02     -6.985945e-03         2.125344e+01   \n",
              "std        8.842820e-01      1.453340e+00         2.402693e+01   \n",
              "min       -2.221270e+01     -1.669970e+01        -1.039410e+02   \n",
              "25%       -1.970635e-01     -3.028935e-01         5.345607e+00   \n",
              "50%        6.137100e-03     -5.385480e-03         2.428385e+01   \n",
              "75%        2.366580e-01      2.924292e-01         3.925000e+01   \n",
              "max        1.698350e+01      1.433840e+01         1.725900e+02   \n",
              "\n",
              "       hand magnetometer Y  ...  ankle acceleration X ±16g  \\\n",
              "count         2.864056e+06  ...               2.864056e+06   \n",
              "mean         -1.432121e+01  ...               9.547292e+00   \n",
              "std           2.409430e+01  ...               5.674253e+00   \n",
              "min          -2.000430e+02  ...              -1.550680e+02   \n",
              "25%          -2.951722e+01  ...               9.030297e+00   \n",
              "50%          -1.645440e+01  ...               9.573050e+00   \n",
              "75%           1.765928e+00  ...               1.000520e+01   \n",
              "max           1.211760e+02  ...               1.572320e+02   \n",
              "\n",
              "       ankle acceleration Y ±16g  ankle acceleration Z ±16g  \\\n",
              "count               2.864056e+06               2.864056e+06   \n",
              "mean               -1.251156e-01              -2.459224e+00   \n",
              "std                 6.816935e+00               3.523211e+00   \n",
              "min                -1.574430e+02              -1.589260e+02   \n",
              "25%                -1.756760e+00              -3.643863e+00   \n",
              "50%                -2.717770e-01              -2.357330e+00   \n",
              "75%                 1.253742e+00              -1.062060e+00   \n",
              "max                 1.572930e+02               1.588720e+02   \n",
              "\n",
              "       ankle gyroscope X  ankle gyroscope Y  ankle gyroscope Z  \\\n",
              "count       2.864056e+06       2.864056e+06       2.864056e+06   \n",
              "mean        8.153172e-03      -3.430653e-02       6.899129e-03   \n",
              "std         1.070971e+00       5.953280e-01       1.842663e+00   \n",
              "min        -2.399500e+01      -1.812690e+01      -1.401960e+01   \n",
              "25%        -1.528980e-01      -8.216113e-02      -3.097942e-01   \n",
              "50%         4.215460e-03      -4.229060e-03      -2.273390e-03   \n",
              "75%         9.399325e-02       8.283495e-02       6.281400e-02   \n",
              "max         1.742040e+01       1.358820e+01       1.652880e+01   \n",
              "\n",
              "       ankle magnetometer X  ankle magnetometer Y  ankle magnetometer Z  \\\n",
              "count          2.864056e+06          2.864056e+06          2.864056e+06   \n",
              "mean          -3.272317e+01          1.635810e+00          1.691927e+01   \n",
              "std            1.888977e+01          2.159774e+01          2.031745e+01   \n",
              "min           -1.728650e+02         -1.379080e+02         -1.092890e+02   \n",
              "25%           -4.290010e+01         -1.140080e+01          3.293130e+00   \n",
              "50%           -3.389515e+01          1.419830e+00          1.816660e+01   \n",
              "75%           -1.905550e+01          1.734970e+01          3.091070e+01   \n",
              "max            9.752550e+01          1.233060e+02          1.469000e+02   \n",
              "\n",
              "           PeopleId  \n",
              "count  2.864056e+06  \n",
              "mean   4.487160e+00  \n",
              "std    2.357792e+00  \n",
              "min    1.000000e+00  \n",
              "25%    2.000000e+00  \n",
              "50%    5.000000e+00  \n",
              "75%    7.000000e+00  \n",
              "max    8.000000e+00  \n",
              "\n",
              "[8 rows x 32 columns]"
            ]
          },
          "execution_count": 4,
          "metadata": {},
          "output_type": "execute_result"
        }
      ],
      "source": [
        "# understanding of summative statistics for each feature.\n",
        "df.describe()"
      ]
    },
    {
      "cell_type": "markdown",
      "id": "2afef3ea-f912-41df-b953-6286be48174b",
      "metadata": {
        "id": "2afef3ea-f912-41df-b953-6286be48174b"
      },
      "source": [
        "## Detect Outliers (1.5x IQR)"
      ]
    },
    {
      "cell_type": "code",
      "execution_count": null,
      "id": "b6cc697c-57f6-460e-ab43-6e697391dd1a",
      "metadata": {
        "id": "b6cc697c-57f6-460e-ab43-6e697391dd1a",
        "outputId": "190cf46d-ec12-495c-f65a-d437b975ef10"
      },
      "outputs": [
        {
          "name": "stdout",
          "output_type": "stream",
          "text": [
            "Column 'heart_rate' has 33781 outliers\n",
            "Column 'hand temperature (°C)' has 8347 outliers\n",
            "Column 'hand acceleration X ±16g' has 20232 outliers\n",
            "Column 'hand acceleration Y ±16g' has 176483 outliers\n",
            "Column 'hand acceleration Z ±16g' has 51951 outliers\n",
            "Column 'hand gyroscope X' has 505302 outliers\n",
            "Column 'hand gyroscope Y' has 523368 outliers\n",
            "Column 'hand gyroscope Z' has 677605 outliers\n",
            "Column 'hand magnetometer X' has 18337 outliers\n",
            "Column 'hand magnetometer Y' has 31867 outliers\n",
            "Column 'hand magnetometer Z' has 33295 outliers\n",
            "Column 'chest temperature (°C)' has 8896 outliers\n",
            "Column 'chest acceleration X ±16g' has 166882 outliers\n",
            "Column 'chest acceleration Y ±16g' has 464667 outliers\n",
            "Column 'chest acceleration Z ±16g' has 216368 outliers\n",
            "Column 'chest gyroscope X' has 442854 outliers\n",
            "Column 'chest gyroscope Y' has 504882 outliers\n",
            "Column 'chest gyroscope Z' has 450402 outliers\n",
            "Column 'chest magnetometer X' has 38052 outliers\n",
            "Column 'chest magnetometer Y' has 248453 outliers\n",
            "Column 'chest magnetometer Z' has 25577 outliers\n",
            "Column 'ankle temperature (°C)' has 75725 outliers\n",
            "Column 'ankle acceleration X ±16g' has 1007136 outliers\n",
            "Column 'ankle acceleration Y ±16g' has 515850 outliers\n",
            "Column 'ankle acceleration Z ±16g' has 210652 outliers\n",
            "Column 'ankle gyroscope X' has 882668 outliers\n",
            "Column 'ankle gyroscope Y' has 802742 outliers\n",
            "Column 'ankle gyroscope Z' has 929448 outliers\n",
            "Column 'ankle magnetometer X' has 74319 outliers\n",
            "Column 'ankle magnetometer Y' has 30954 outliers\n",
            "Column 'ankle magnetometer Z' has 37252 outliers\n",
            "Column 'PeopleId' has 0 outliers\n"
          ]
        }
      ],
      "source": [
        "# check only numerical features\n",
        "for column in df.select_dtypes(include = [np.number]).columns:\n",
        "\n",
        "    # calculate Q1, Q3, and IQR\n",
        "    Q1 = df[column].quantile(0.25)\n",
        "    Q3 = df[column].quantile(0.75)\n",
        "    IQR = Q3 - Q1\n",
        "\n",
        "    # filter outliers\n",
        "    filter_in = (df[column] >= Q1 - 1.5*IQR) & (df[column] <= Q3 + 1.5*IQR)\n",
        "    outliers = df.loc[~filter_in, column]\n",
        "\n",
        "    # print outlier count\n",
        "    print(f\"Column '{column}' has {outliers.count()} outliers\")"
      ]
    },
    {
      "cell_type": "markdown",
      "id": "01d3c47e-59a1-48bd-8929-02a69107457c",
      "metadata": {
        "id": "01d3c47e-59a1-48bd-8929-02a69107457c"
      },
      "source": [
        "Please note that outliers, in the context of physiological data should not be removed, nor treated as poor data since there is a high natural variability in human physiology and behavior. The data collected may be perfectly valid and incredibly useful. For instance, during intense physical activities like rope jumping, it is perfectly normal for heart rate to reach levels that are very high compared to rest or light activity, and are classified as outliers despite being expected and useful.\n",
        "\n",
        "This segment is just to illustrate that there exists variability in our data."
      ]
    },
    {
      "cell_type": "markdown",
      "id": "000023e3-7ebd-48a9-ba49-f1a8cf668c9f",
      "metadata": {
        "id": "000023e3-7ebd-48a9-ba49-f1a8cf668c9f"
      },
      "source": [
        "## Check for Number of Unique Occurrences"
      ]
    },
    {
      "cell_type": "code",
      "execution_count": null,
      "id": "b14ba4f8-dd7d-4085-a714-fa81139cc4a8",
      "metadata": {
        "id": "b14ba4f8-dd7d-4085-a714-fa81139cc4a8",
        "outputId": "4e31406e-3f28-4cc7-9fa3-f78a0db24684"
      },
      "outputs": [
        {
          "name": "stdout",
          "output_type": "stream",
          "text": [
            "The unique activity types are as follows:\n",
            "['transient activities' 'lying' 'sitting' 'standing' 'ironing'\n",
            " 'vacuum cleaning' 'ascending stairs' 'descending stairs' 'walking'\n",
            " 'Nordic walking' 'cycling' 'running' 'rope jumping']\n",
            "\n",
            "The unique user IDs are: \n",
            "[1 2 3 4 5 6 7 8]\n",
            "\n",
            "2    447000\n",
            "8    408031\n",
            "1    376417\n",
            "5    374783\n",
            "6    361817\n",
            "4    329576\n",
            "7    313599\n",
            "3    252833\n",
            "Name: PeopleId, dtype: int64\n",
            "Relatively even distribution of activities performed by each person\n"
          ]
        }
      ],
      "source": [
        "# check for unique activities\n",
        "print('The unique activity types are as follows:')\n",
        "print(df['activityID'].unique())\n",
        "print()\n",
        "\n",
        "# check for unique users\n",
        "print('The unique user IDs are: ')\n",
        "print(df['PeopleId'].unique())\n",
        "print()\n",
        "\n",
        "count_by_people_id = df['PeopleId'].value_counts()\n",
        "print(count_by_people_id)\n",
        "print('Relatively even distribution of activities performed by each person')"
      ]
    },
    {
      "cell_type": "code",
      "execution_count": null,
      "id": "59d42240-b972-4bc3-8115-6fa547cff311",
      "metadata": {
        "id": "59d42240-b972-4bc3-8115-6fa547cff311",
        "outputId": "5bd5235d-b80d-4382-e4f9-8eb311b8f690"
      },
      "outputs": [
        {
          "name": "stdout",
          "output_type": "stream",
          "text": [
            "Plot activities distribution\n"
          ]
        },
        {
          "data": {
            "image/png": "[encoded data removed]",
            "text/plain": [
              "<Figure size 1000x600 with 1 Axes>"
            ]
          },
          "metadata": {},
          "output_type": "display_data"
        },
        {
          "name": "stdout",
          "output_type": "stream",
          "text": [
            "\n"
          ]
        }
      ],
      "source": [
        "print('Plot activities distribution')\n",
        "plt.figure(figsize = (10, 6))\n",
        "sns.countplot(data = df, y = 'activityID')\n",
        "plt.title('Distribution of Activities')\n",
        "plt.show()\n",
        "print()"
      ]
    },
    {
      "cell_type": "code",
      "execution_count": null,
      "id": "1e86d9fb-7af5-46ea-b3fe-25e5ad607893",
      "metadata": {
        "id": "1e86d9fb-7af5-46ea-b3fe-25e5ad607893",
        "outputId": "3b559fdb-7ca9-4936-9efd-d471e1a651df"
      },
      "outputs": [
        {
          "name": "stdout",
          "output_type": "stream",
          "text": [
            "The proportion of transient activities is: 0.32386761990687335\n"
          ]
        }
      ],
      "source": [
        "print(f\"The proportion of transient activities is: {len(df[df['activityID'] == 'transient activities']) / len(df)}\")"
      ]
    },
    {
      "cell_type": "markdown",
      "id": "f5e625af-3d9a-4699-8a5f-07a1825d7150",
      "metadata": {
        "id": "f5e625af-3d9a-4699-8a5f-07a1825d7150"
      },
      "source": [
        "This indicates an imbalanced dataset which might bias our model into predicting transient activities more often than not. We can use SMOTE to generate synthetic examples that may oversample the minority, or we can remove said activityID.\n",
        "\n",
        "Fortunately, in our case, we can remove transient activities since the objective of our model is to classify active activities or exercises. We can ignore those cases in which the person is simply resting, due to the guidelines laid out in our objective."
      ]
    },
    {
      "cell_type": "markdown",
      "source": [
        "## Plot Heart Rate Distribution"
      ],
      "metadata": {
        "id": "y13aAYzNvRDA"
      },
      "id": "y13aAYzNvRDA"
    },
    {
      "cell_type": "code",
      "execution_count": null,
      "id": "a9d3d234-d46e-4c3c-8e2a-0e37da1027ba",
      "metadata": {
        "id": "a9d3d234-d46e-4c3c-8e2a-0e37da1027ba",
        "outputId": "d5812b77-0b84-4995-e5d6-d3b635bdc570"
      },
      "outputs": [
        {
          "name": "stdout",
          "output_type": "stream",
          "text": [
            "Plot heart rate distribution\n"
          ]
        },
        {
          "data": {
            "image/png": "[encoded data removed]",
            "text/plain": [
              "<Figure size 1000x600 with 1 Axes>"
            ]
          },
          "metadata": {},
          "output_type": "display_data"
        }
      ],
      "source": [
        "print('Plot heart rate distribution')\n",
        "plt.figure(figsize = (10, 6))\n",
        "sns.histplot(df['heart_rate'], bins = 30, kde = True)\n",
        "plt.title('Distribution of Heart Rate')\n",
        "plt.show()"
      ]
    },
    {
      "cell_type": "markdown",
      "id": "145ba661-fd7e-4ceb-a959-6679d47d48b0",
      "metadata": {
        "id": "145ba661-fd7e-4ceb-a959-6679d47d48b0"
      },
      "source": [
        "We notice a right-skewed bi-modal distribution with relative peaks at 90 BPM and 125 BPM.\n",
        "The right-skewed nature of our distribution is also not surprising as the left-most part of the curve around 60 to 80 BPM represents one's baseline resting heart rate. When one's body responds to exercise, the heart rate increases to the 'target heart rate', which is around 160 to 200 BPM."
      ]
    },
    {
      "cell_type": "code",
      "execution_count": null,
      "id": "34a6d7c5-cbf6-43ea-8481-d7de09679311",
      "metadata": {
        "id": "34a6d7c5-cbf6-43ea-8481-d7de09679311",
        "outputId": "cf3f13f7-f81c-4b9d-830b-6a0d904c2c51"
      },
      "outputs": [
        {
          "name": "stdout",
          "output_type": "stream",
          "text": [
            "Display Box Plot of Heart Rate\n"
          ]
        },
        {
          "data": {
            "image/png": "[encoded data removed]",
            "text/plain": [
              "<Figure size 600x400 with 1 Axes>"
            ]
          },
          "metadata": {},
          "output_type": "display_data"
        }
      ],
      "source": [
        "print('Display Box Plot of Heart Rate')\n",
        "fig, ax = plt.subplots(figsize=(6,4))\n",
        "plt.title(\"Heart Rate \")\n",
        "ax = sns.boxplot(y = df[\"heart_rate\"])"
      ]
    },
    {
      "cell_type": "markdown",
      "id": "db3b6801-5a3c-42f1-8eb5-bf4e3050e73c",
      "metadata": {
        "id": "db3b6801-5a3c-42f1-8eb5-bf4e3050e73c"
      },
      "source": [
        "We notice that there is a dense group of outliers which have a heart rate from 180 to just over 200. Outliers, in the context of physiological data should not be removed, nor treated as poor data since there is a high natural variability in human physiology and behavior. The data collected may be perfectly valid and incredibly useful. For instance, during intense physical activities like running or rope jumping, it is perfectly normal for heart rate to reach levels that are very high compared to rest or light activity, and are classified as outliers despite being expected and useful.\n",
        "\n",
        "The median heart rate is about 109 BPM, with the first quartile (25% percentile) ~ 90 BPM and the third quartile (75% percentile) ~ 125 BPM.\n",
        "The whisker from the third quartile to the upper range of the 1.5 * IQR indicates higher variability in the upper part of the distribution of the data, which is normal as intensive physical exercises demand a higher heart rate."
      ]
    },
    {
      "cell_type": "code",
      "execution_count": null,
      "id": "00fc90f1-31b0-42b3-a855-14cce8e33da0",
      "metadata": {
        "id": "00fc90f1-31b0-42b3-a855-14cce8e33da0",
        "outputId": "0c661bf5-7a6f-4012-b539-1117e0b87ad6"
      },
      "outputs": [
        {
          "data": {
            "image/png": "[encoded data removed]",
            "text/plain": [
              "<Figure size 1000x600 with 1 Axes>"
            ]
          },
          "metadata": {},
          "output_type": "display_data"
        }
      ],
      "source": [
        "import matplotlib.pyplot as plt\n",
        "import seaborn as sns\n",
        "\n",
        "# calculate mean heart_rate for each activityID\n",
        "mean_hr_per_activity = df.groupby('activityID')['heart_rate'].mean()\n",
        "\n",
        "# bar plot\n",
        "plt.figure(figsize=(10, 6))\n",
        "sns.barplot(x = mean_hr_per_activity.index, y = mean_hr_per_activity.values)\n",
        "\n",
        "plt.xlabel('Activity ID')\n",
        "plt.ylabel('Mean Heart Rate')\n",
        "plt.title('Mean Heart Rate per Activity ID')\n",
        "plt.xticks(rotation=90)\n",
        "plt.show()"
      ]
    },
    {
      "cell_type": "markdown",
      "id": "5cb5c595-40c6-41ff-bfad-543304233ad1",
      "metadata": {
        "id": "5cb5c595-40c6-41ff-bfad-543304233ad1"
      },
      "source": [
        "A simple Student's T-test will be used to test the following hypotheses:\n",
        "\n",
        "H0: Mean HR of rope jumping and running is not significantly different from the mean of the other activities.\n",
        "HA: Mean HR of rope jumping and running is significantly different from the mean of the other activities.\n",
        "\n",
        "This is to explore whether or not there exists certain exercises that cause mean heart rate to be significantly different from the mean heart rate of other exercises.\n",
        "The results of this t-test may indicate the extent to which heart rate is a good feature for classification."
      ]
    },
    {
      "cell_type": "code",
      "execution_count": null,
      "id": "cd898b69-4661-4015-8ff7-afa7f9179943",
      "metadata": {
        "id": "cd898b69-4661-4015-8ff7-afa7f9179943",
        "outputId": "c727c2a6-ef66-4515-a2d5-e0249de4c7c0"
      },
      "outputs": [
        {
          "name": "stdout",
          "output_type": "stream",
          "text": [
            "t-statistic: 824.670362223388\n",
            "p-value: 0.0\n"
          ]
        }
      ],
      "source": [
        "from scipy import stats\n",
        "\n",
        "high_intensity_activities = df[df['activityID'].isin(['rope jumping', 'running'])]['heart_rate']\n",
        "other_activities = df[~df['activityID'].isin(['rope jumping', 'running'])]['heart_rate']\n",
        "\n",
        "t_statistic, p_value = stats.ttest_ind(high_intensity_activities, other_activities, equal_var = False, nan_policy = 'omit')\n",
        "\n",
        "print(\"t-statistic:\", t_statistic)\n",
        "print(\"p-value:\", p_value)"
      ]
    },
    {
      "cell_type": "markdown",
      "id": "51ca4ca7-8b0f-4cc8-860f-18504653c739",
      "metadata": {
        "id": "51ca4ca7-8b0f-4cc8-860f-18504653c739"
      },
      "source": [
        "There is overwhelming support that indicates that mean heart rate between rope jumping and running is indeed significantly different from the mean of the other activities."
      ]
    },
    {
      "cell_type": "markdown",
      "id": "f7dbfd96-8121-435d-a9a0-5f569bb3ce99",
      "metadata": {
        "id": "f7dbfd96-8121-435d-a9a0-5f569bb3ce99"
      },
      "source": [
        "## Feature Engineering\n",
        "\n",
        "The magnitudes of acceleration, gyroscope, and magnetometer are calculated and used as features for the model from their X, Y, and Z axis components. This is done to reduce the dimensionality of the dataset, as well as create features that still represent the nature of our dataset, perhaps even better than the features separately."
      ]
    },
    {
      "cell_type": "code",
      "execution_count": null,
      "id": "dcf150d9-9305-4fe2-8474-d33dd75fa1a6",
      "metadata": {
        "id": "dcf150d9-9305-4fe2-8474-d33dd75fa1a6"
      },
      "outputs": [],
      "source": [
        "import numpy as np\n",
        "\n",
        "df['hand_acceleration_magnitude'] = np.sqrt(df['hand acceleration X ±16g']**2 + df['hand acceleration Y ±16g']**2 + df['hand acceleration Z ±16g']**2)\n",
        "\n",
        "df['hand_gyroscope_magnitude'] = np.sqrt(df['hand gyroscope X']**2 + df['hand gyroscope Y']**2 + df['hand gyroscope Z']**2)\n",
        "\n",
        "df['hand_magnetometer_magnitude'] = np.sqrt(df['hand magnetometer X']**2 + df['hand magnetometer Y']**2 + df['hand magnetometer Z']**2)\n",
        "\n",
        "df['chest_acceleration_magnitude'] = np.sqrt(df['chest acceleration X ±16g']**2 + df['chest acceleration Y ±16g']**2 + df['chest acceleration Z ±16g']**2)\n",
        "\n",
        "df['chest_gyroscope_magnitude'] = np.sqrt(df['chest gyroscope X']**2 + df['chest gyroscope Y']**2 + df['chest gyroscope Z']**2)\n",
        "\n",
        "df['chest_magnetometer_magnitude'] = np.sqrt(df['chest magnetometer X']**2 + df['chest magnetometer Y']**2 + df['chest magnetometer Z']**2)\n",
        "\n",
        "df['ankle_acceleration_magnitude'] = np.sqrt(df['ankle acceleration X ±16g']**2 + df['ankle acceleration Y ±16g']**2 + df['ankle acceleration Z ±16g']**2)\n",
        "\n",
        "df['ankle_gyroscope_magnitude'] = np.sqrt(df['ankle gyroscope X']**2 + df['ankle gyroscope Y']**2 + df['ankle gyroscope Z']**2)\n",
        "\n",
        "df['ankle_magnetometer_magnitude'] = np.sqrt(df['ankle magnetometer X']**2 + df['ankle magnetometer Y']**2 + df['ankle magnetometer Z']**2)\n"
      ]
    },
    {
      "cell_type": "markdown",
      "id": "bbc1e571-aff5-4042-8e3a-854cdce3fdd5",
      "metadata": {
        "id": "bbc1e571-aff5-4042-8e3a-854cdce3fdd5"
      },
      "source": [
        "Drop component features as previously discussed. In addition, drop PeopleId.\n",
        "\n",
        "PeopleId refers to the person who performed the exercise and can be helpful for the model to learn more about the habits, patterns, and performance trends of an individual person, and use that information to better predict other activities performed by that person. While this feature is potentially amazing for device such as the Apple Watch, that work to only serve and analyze the user in particular, for the purposes of our multi-class classification model, the model should not draw influence from the person performing the exercise, simply the physiological measurements of said person."
      ]
    },
    {
      "cell_type": "code",
      "execution_count": null,
      "id": "1ebe534a-34c5-4bdd-837b-462142469161",
      "metadata": {
        "id": "1ebe534a-34c5-4bdd-837b-462142469161"
      },
      "outputs": [],
      "source": [
        "# dropping original X, Y, Z features\n",
        "features_to_drop = ['PeopleId', 'hand acceleration X ±16g', 'hand acceleration Y ±16g', 'hand acceleration Z ±16g',\n",
        "                    'hand gyroscope X', 'hand gyroscope Y', 'hand gyroscope Z',\n",
        "                    'hand magnetometer X', 'hand magnetometer Y', 'hand magnetometer Z',\n",
        "                    'chest acceleration X ±16g', 'chest acceleration Y ±16g', 'chest acceleration Z ±16g',\n",
        "                    'chest gyroscope X', 'chest gyroscope Y', 'chest gyroscope Z',\n",
        "                    'chest magnetometer X', 'chest magnetometer Y', 'chest magnetometer Z',\n",
        "                    'ankle acceleration X ±16g', 'ankle acceleration Y ±16g', 'ankle acceleration Z ±16g',\n",
        "                    'ankle gyroscope X', 'ankle gyroscope Y', 'ankle gyroscope Z',\n",
        "                    'ankle magnetometer X', 'ankle magnetometer Y', 'ankle magnetometer Z']\n",
        "\n",
        "df = df.drop(features_to_drop, axis=1)"
      ]
    },
    {
      "cell_type": "markdown",
      "source": [
        "## Pre-processing and Model Building"
      ],
      "metadata": {
        "id": "hErOd30KvfVl"
      },
      "id": "hErOd30KvfVl"
    },
    {
      "cell_type": "code",
      "execution_count": null,
      "id": "8b51aaaf-ff1f-4b9b-a074-cf955bc47dc0",
      "metadata": {
        "id": "8b51aaaf-ff1f-4b9b-a074-cf955bc47dc0"
      },
      "outputs": [],
      "source": [
        "# FOR XGBOOST AND RANDOM FOREST FOR PRE-PROCESSING\n",
        "\n",
        "import numpy as np\n",
        "from sklearn.impute import SimpleImputer\n",
        "from sklearn.preprocessing import LabelEncoder\n",
        "from sklearn.model_selection import train_test_split\n",
        "from imblearn.over_sampling import SMOTE\n",
        "from sklearn.tree import DecisionTreeClassifier\n",
        "from sklearn.ensemble import RandomForestClassifier\n",
        "from xgboost import XGBClassifier\n",
        "from sklearn.metrics import classification_report, confusion_matrix\n",
        "\n",
        "df = df[df['activityID'] != 'transient activities'] # remove transient activities\n",
        "\n",
        "# convert categorical variables (\n",
        "le = LabelEncoder()\n",
        "df['activityID'] = le.fit_transform(df['activityID'])\n",
        "\n",
        "# split the features and the target variable\n",
        "X = df.drop(columns='activityID')\n",
        "y = df['activityID']\n",
        "\n",
        "# split the data into training and testing sets\n",
        "X_train, X_test, y_train, y_test = train_test_split(X, y, test_size=0.3, random_state = 1)"
      ]
    },
    {
      "cell_type": "code",
      "execution_count": null,
      "id": "1b82db92-f737-4479-a2c7-2a2a1480e006",
      "metadata": {
        "id": "1b82db92-f737-4479-a2c7-2a2a1480e006",
        "outputId": "c67048c3-d6e1-4813-84f3-a00939647984"
      },
      "outputs": [
        {
          "name": "stdout",
          "output_type": "stream",
          "text": [
            "Random Forest Classifier Results:\n",
            "              precision    recall  f1-score   support\n",
            "\n",
            "           0       1.00      1.00      1.00     56413\n",
            "           1       1.00      1.00      1.00     35213\n",
            "           2       1.00      1.00      1.00     49403\n",
            "           3       1.00      1.00      1.00     31672\n",
            "           4       1.00      1.00      1.00     71455\n",
            "           5       1.00      1.00      1.00     57909\n",
            "           6       1.00      1.00      1.00     12827\n",
            "           7       1.00      1.00      1.00     29422\n",
            "           8       1.00      1.00      1.00     55843\n",
            "           9       1.00      1.00      1.00     56907\n",
            "          10       1.00      1.00      1.00     52233\n",
            "          11       1.00      1.00      1.00     71648\n",
            "\n",
            "    accuracy                           1.00    580945\n",
            "   macro avg       1.00      1.00      1.00    580945\n",
            "weighted avg       1.00      1.00      1.00    580945\n",
            "\n",
            "[[56413     0     0     0     0     0     0     0     0     0     0     0]\n",
            " [    0 35148     0    65     0     0     0     0     0     0     0     0]\n",
            " [    0     0 49403     0     0     0     0     0     0     0     0     0]\n",
            " [    0    38     0 31634     0     0     0     0     0     0     0     0]\n",
            " [    0     0     0     0 71395     0     0     0     0    60     0     0]\n",
            " [    0     0     0     0     0 57907     0     0     2     0     0     0]\n",
            " [    0     0     0     0     0     0 12827     0     0     0     0     0]\n",
            " [    0     0     0     0     0     0     2 29420     0     0     0     0]\n",
            " [    0     0     0     0     0     0     0     0 55822    21     0     0]\n",
            " [    0     0     0     0    28     0     0     0     1 56878     0     0]\n",
            " [    0     0     0     0     0     0     0     0     0     0 52233     0]\n",
            " [    0     0     0     0     0     0     0     0     0     0     0 71648]]\n",
            "XGBoost Classifier Results:\n",
            "              precision    recall  f1-score   support\n",
            "\n",
            "           0       1.00      1.00      1.00     56413\n",
            "           1       1.00      1.00      1.00     35213\n",
            "           2       1.00      1.00      1.00     49403\n",
            "           3       1.00      1.00      1.00     31672\n",
            "           4       1.00      1.00      1.00     71455\n",
            "           5       1.00      1.00      1.00     57909\n",
            "           6       1.00      1.00      1.00     12827\n",
            "           7       1.00      1.00      1.00     29422\n",
            "           8       1.00      1.00      1.00     55843\n",
            "           9       1.00      1.00      1.00     56907\n",
            "          10       1.00      1.00      1.00     52233\n",
            "          11       1.00      1.00      1.00     71648\n",
            "\n",
            "    accuracy                           1.00    580945\n",
            "   macro avg       1.00      1.00      1.00    580945\n",
            "weighted avg       1.00      1.00      1.00    580945\n",
            "\n",
            "[[56413     0     0     0     0     0     0     0     0     0     0     0]\n",
            " [    0 35138     0    75     0     0     0     0     0     0     0     0]\n",
            " [    0     0 49403     0     0     0     0     0     0     0     0     0]\n",
            " [    0    56     0 31616     0     0     0     0     0     0     0     0]\n",
            " [    0     0     0     0 71401     0     0     0     0    54     0     0]\n",
            " [    0     0     0     0     0 57907     0     0     2     0     0     0]\n",
            " [    0     0     0     0     0     0 12827     0     0     0     0     0]\n",
            " [    0     0     0     0     0     0     2 29420     0     0     0     0]\n",
            " [    0     0     0     0     0     0     0     0 55831    12     0     0]\n",
            " [    0     0     0     0    39     0     0     0     3 56865     0     0]\n",
            " [    0     0     0     0     0     0     0     0     0     0 52233     0]\n",
            " [    0     0     0     0     0     0     0     0     0     0     0 71648]]\n"
          ]
        }
      ],
      "source": [
        "# Random Forest Classifier\n",
        "rf = RandomForestClassifier(random_state = 1)\n",
        "rf.fit(X_train, y_train)\n",
        "y_pred_rf = rf.predict(X_test)\n",
        "print(\"Random Forest Classifier Results:\")\n",
        "print(classification_report(y_test, y_pred_rf))\n",
        "print(confusion_matrix(y_test, y_pred_rf))\n",
        "\n",
        "# XGBoost Classifier\n",
        "xgb = XGBClassifier(eval_metric='mlogloss', random_state = 1)\n",
        "xgb.fit(X_train, y_train)\n",
        "y_pred_xgb = xgb.predict(X_test)\n",
        "print(\"XGBoost Classifier Results:\")\n",
        "print(classification_report(y_test, y_pred_xgb))\n",
        "print(confusion_matrix(y_test, y_pred_xgb))"
      ]
    },
    {
      "cell_type": "code",
      "execution_count": null,
      "id": "df5609e5-2d59-4611-a837-3206b05bca26",
      "metadata": {
        "id": "df5609e5-2d59-4611-a837-3206b05bca26",
        "outputId": "8eb97e51-e67d-4694-e406-fa047d4f7a32"
      },
      "outputs": [
        {
          "name": "stdout",
          "output_type": "stream",
          "text": [
            "Random Forest Micro-average F1 score: 1.00\n",
            "Random Forest Macro-average F1 score: 1.00\n",
            "XGB Micro-average F1 score: 1.00\n",
            "XGB Macro-average F1 score: 1.00\n"
          ]
        }
      ],
      "source": [
        "from sklearn.metrics import f1_score\n",
        "\n",
        "micro_f1 = f1_score(y_test, y_pred_rf, average='micro')\n",
        "print(\"Random Forest Micro-average F1 score: {0:.2f}\".format(micro_f1))\n",
        "\n",
        "macro_f1 = f1_score(y_test, y_pred_rf, average='macro')\n",
        "print(\"Random Forest Macro-average F1 score: {0:.2f}\".format(macro_f1))\n",
        "\n",
        "micro_f1 = f1_score(y_test, y_pred_xgb, average='micro')\n",
        "print(\"XGB Micro-average F1 score: {0:.2f}\".format(micro_f1))\n",
        "\n",
        "macro_f1 = f1_score(y_test, y_pred_xgb, average='macro')\n",
        "print(\"XGB Macro-average F1 score: {0:.2f}\".format(macro_f1))"
      ]
    },
    {
      "cell_type": "code",
      "execution_count": null,
      "id": "ffc8e2bc-add6-43a7-aa33-3f91844c3b28",
      "metadata": {
        "id": "ffc8e2bc-add6-43a7-aa33-3f91844c3b28",
        "outputId": "216191dc-ee46-4c35-e321-519b444daee9"
      },
      "outputs": [
        {
          "name": "stdout",
          "output_type": "stream",
          "text": [
            "Feature heart_rate: 0.12244754284620285\n",
            "Feature hand temperature (°C): 0.08572602272033691\n",
            "Feature chest temperature (°C): 0.08635687083005905\n",
            "Feature ankle temperature (°C): 0.0673007071018219\n",
            "Feature hand_acceleration_magnitude: 0.011064968071877956\n",
            "Feature hand_gyroscope_magnitude: 0.17790327966213226\n",
            "Feature hand_magnetometer_magnitude: 0.02000712789595127\n",
            "Feature chest_acceleration_magnitude: 0.028900451958179474\n",
            "Feature chest_gyroscope_magnitude: 0.027333270758390427\n",
            "Feature chest_magnetometer_magnitude: 0.17441120743751526\n",
            "Feature ankle_acceleration_magnitude: 0.01593092642724514\n",
            "Feature ankle_gyroscope_magnitude: 0.10362830013036728\n",
            "Feature ankle_magnetometer_magnitude: 0.07898934185504913\n"
          ]
        }
      ],
      "source": [
        "importances = xgb.feature_importances_\n",
        "\n",
        "# print feature importances\n",
        "for i in range(len(importances)):\n",
        "    print(f\"Feature {X_train.columns[i]}: {importances[i]}\")"
      ]
    },
    {
      "cell_type": "code",
      "execution_count": null,
      "id": "822df49c-c78d-455c-81b5-af83aa01eca9",
      "metadata": {
        "id": "822df49c-c78d-455c-81b5-af83aa01eca9",
        "outputId": "aa7e955e-e94e-4d12-c26a-7b05865df887"
      },
      "outputs": [
        {
          "data": {
            "image/png": "[encoded data removed]",
            "text/plain": [
              "<Figure size 1200x800 with 1 Axes>"
            ]
          },
          "metadata": {},
          "output_type": "display_data"
        }
      ],
      "source": [
        "import matplotlib.pyplot as plt\n",
        "\n",
        "indices = np.argsort(importances)\n",
        "\n",
        "plt.figure(figsize=(12,8))\n",
        "plt.title('Feature Importances')\n",
        "plt.barh(range(len(indices)), importances[indices], color='b', align='center')\n",
        "plt.yticks(range(len(indices)), [X_train.columns[i] for i in indices])\n",
        "plt.xlabel('Relative Importance')\n",
        "plt.show()"
      ]
    }
  ],
  "metadata": {
    "kernelspec": {
      "display_name": "Python 3 (ipykernel)",
      "language": "python",
      "name": "python3"
    },
    "language_info": {
      "codemirror_mode": {
        "name": "ipython",
        "version": 3
      },
      "file_extension": ".py",
      "mimetype": "text/x-python",
      "name": "python",
      "nbconvert_exporter": "python",
      "pygments_lexer": "ipython3",
      "version": "3.8.16"
    },
    "colab": {
      "provenance": []
    }
  },
  "nbformat": 4,
  "nbformat_minor": 5
}